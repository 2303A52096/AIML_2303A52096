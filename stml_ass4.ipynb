{
  "nbformat": 4,
  "nbformat_minor": 0,
  "metadata": {
    "colab": {
      "provenance": [],
      "mount_file_id": "1_1sm4RA6zaLMxqvDK3S_XQaUxKJVD1Fy",
      "authorship_tag": "ABX9TyObGGiOP7yv7xf6qGE+Tafq",
      "include_colab_link": true
    },
    "kernelspec": {
      "name": "python3",
      "display_name": "Python 3"
    },
    "language_info": {
      "name": "python"
    }
  },
  "cells": [
    {
      "cell_type": "markdown",
      "metadata": {
        "id": "view-in-github",
        "colab_type": "text"
      },
      "source": [
        "<a href=\"https://colab.research.google.com/github/2303A52096/AIML_2303A52096/blob/main/stml_ass4.ipynb\" target=\"_parent\"><img src=\"https://colab.research.google.com/assets/colab-badge.svg\" alt=\"Open In Colab\"/></a>"
      ]
    },
    {
      "cell_type": "code",
      "execution_count": null,
      "metadata": {
        "colab": {
          "base_uri": "https://localhost:8080/"
        },
        "id": "aq4zP4OrK9Yf",
        "outputId": "d5f77c4b-d2da-45c6-c5ed-0506ba9e8a7a"
      },
      "outputs": [
        {
          "output_type": "stream",
          "name": "stdout",
          "text": [
            "Mounted at /content/drive\n"
          ]
        }
      ],
      "source": [
        "from google.colab import drive\n",
        "drive.mount('/content/drive')\n"
      ]
    },
    {
      "cell_type": "code",
      "source": [
        "import pandas as pd\n",
        "data = pd.read_csv('/content/drive/MyDrive/train.csv')\n",
        "print(data.head())"
      ],
      "metadata": {
        "colab": {
          "base_uri": "https://localhost:8080/"
        },
        "id": "TUyg0K8mLeL-",
        "outputId": "3b57a7bd-4f5d-4531-a4d7-e1c0f4f4c86f"
      },
      "execution_count": null,
      "outputs": [
        {
          "output_type": "stream",
          "name": "stdout",
          "text": [
            "   battery_power  blue  clock_speed  dual_sim  fc  four_g  int_memory  m_dep  \\\n",
            "0            842     0          2.2         0   1       0           7    0.6   \n",
            "1           1021     1          0.5         1   0       1          53    0.7   \n",
            "2            563     1          0.5         1   2       1          41    0.9   \n",
            "3            615     1          2.5         0   0       0          10    0.8   \n",
            "4           1821     1          1.2         0  13       1          44    0.6   \n",
            "\n",
            "   mobile_wt  n_cores  ...  px_height  px_width   ram  sc_h  sc_w  talk_time  \\\n",
            "0        188        2  ...         20       756  2549     9     7         19   \n",
            "1        136        3  ...        905      1988  2631    17     3          7   \n",
            "2        145        5  ...       1263      1716  2603    11     2          9   \n",
            "3        131        6  ...       1216      1786  2769    16     8         11   \n",
            "4        141        2  ...       1208      1212  1411     8     2         15   \n",
            "\n",
            "   three_g  touch_screen  wifi  price_range  \n",
            "0        0             0     1            1  \n",
            "1        1             1     0            2  \n",
            "2        1             1     0            2  \n",
            "3        1             0     0            2  \n",
            "4        1             1     0            1  \n",
            "\n",
            "[5 rows x 21 columns]\n"
          ]
        }
      ]
    },
    {
      "cell_type": "code",
      "source": [
        "y=data[\"price_range\"]\n",
        "print(y)\n"
      ],
      "metadata": {
        "colab": {
          "base_uri": "https://localhost:8080/"
        },
        "id": "xkR_1MRRLrxO",
        "outputId": "6e6d4190-f267-4232-fcad-5af5b677e4fb"
      },
      "execution_count": null,
      "outputs": [
        {
          "output_type": "stream",
          "name": "stdout",
          "text": [
            "0       1\n",
            "1       2\n",
            "2       2\n",
            "3       2\n",
            "4       1\n",
            "       ..\n",
            "1995    0\n",
            "1996    2\n",
            "1997    3\n",
            "1998    0\n",
            "1999    3\n",
            "Name: price_range, Length: 2000, dtype: int64\n"
          ]
        }
      ]
    },
    {
      "cell_type": "code",
      "source": [
        "x=data.drop('price_range',axis=1)\n",
        "print(x);"
      ],
      "metadata": {
        "colab": {
          "base_uri": "https://localhost:8080/"
        },
        "id": "-MQYGgSJLvxp",
        "outputId": "6ca425be-fb0d-48c3-80e1-9c4c07f8e77b"
      },
      "execution_count": null,
      "outputs": [
        {
          "output_type": "stream",
          "name": "stdout",
          "text": [
            "      battery_power  blue  clock_speed  dual_sim  fc  four_g  int_memory  \\\n",
            "0               842     0          2.2         0   1       0           7   \n",
            "1              1021     1          0.5         1   0       1          53   \n",
            "2               563     1          0.5         1   2       1          41   \n",
            "3               615     1          2.5         0   0       0          10   \n",
            "4              1821     1          1.2         0  13       1          44   \n",
            "...             ...   ...          ...       ...  ..     ...         ...   \n",
            "1995            794     1          0.5         1   0       1           2   \n",
            "1996           1965     1          2.6         1   0       0          39   \n",
            "1997           1911     0          0.9         1   1       1          36   \n",
            "1998           1512     0          0.9         0   4       1          46   \n",
            "1999            510     1          2.0         1   5       1          45   \n",
            "\n",
            "      m_dep  mobile_wt  n_cores  pc  px_height  px_width   ram  sc_h  sc_w  \\\n",
            "0       0.6        188        2   2         20       756  2549     9     7   \n",
            "1       0.7        136        3   6        905      1988  2631    17     3   \n",
            "2       0.9        145        5   6       1263      1716  2603    11     2   \n",
            "3       0.8        131        6   9       1216      1786  2769    16     8   \n",
            "4       0.6        141        2  14       1208      1212  1411     8     2   \n",
            "...     ...        ...      ...  ..        ...       ...   ...   ...   ...   \n",
            "1995    0.8        106        6  14       1222      1890   668    13     4   \n",
            "1996    0.2        187        4   3        915      1965  2032    11    10   \n",
            "1997    0.7        108        8   3        868      1632  3057     9     1   \n",
            "1998    0.1        145        5   5        336       670   869    18    10   \n",
            "1999    0.9        168        6  16        483       754  3919    19     4   \n",
            "\n",
            "      talk_time  three_g  touch_screen  wifi  \n",
            "0            19        0             0     1  \n",
            "1             7        1             1     0  \n",
            "2             9        1             1     0  \n",
            "3            11        1             0     0  \n",
            "4            15        1             1     0  \n",
            "...         ...      ...           ...   ...  \n",
            "1995         19        1             1     0  \n",
            "1996         16        1             1     1  \n",
            "1997          5        1             1     0  \n",
            "1998         19        1             1     1  \n",
            "1999          2        1             1     1  \n",
            "\n",
            "[2000 rows x 20 columns]\n"
          ]
        }
      ]
    },
    {
      "cell_type": "code",
      "source": [
        "dd=(x-x.min())/((x.max()) - x.min())\n",
        "print(dd)"
      ],
      "metadata": {
        "colab": {
          "base_uri": "https://localhost:8080/"
        },
        "id": "k7r_t4pVL4iW",
        "outputId": "2971650f-75ee-4705-e0e0-4a974bc06213"
      },
      "execution_count": null,
      "outputs": [
        {
          "output_type": "stream",
          "name": "stdout",
          "text": [
            "      battery_power  blue  clock_speed  dual_sim        fc  four_g  \\\n",
            "0          0.227789   0.0         0.68       0.0  0.052632     0.0   \n",
            "1          0.347361   1.0         0.00       1.0  0.000000     1.0   \n",
            "2          0.041416   1.0         0.00       1.0  0.105263     1.0   \n",
            "3          0.076152   1.0         0.80       0.0  0.000000     0.0   \n",
            "4          0.881764   1.0         0.28       0.0  0.684211     1.0   \n",
            "...             ...   ...          ...       ...       ...     ...   \n",
            "1995       0.195725   1.0         0.00       1.0  0.000000     1.0   \n",
            "1996       0.977956   1.0         0.84       1.0  0.000000     0.0   \n",
            "1997       0.941884   0.0         0.16       1.0  0.052632     1.0   \n",
            "1998       0.675351   0.0         0.16       0.0  0.210526     1.0   \n",
            "1999       0.006012   1.0         0.60       1.0  0.263158     1.0   \n",
            "\n",
            "      int_memory     m_dep  mobile_wt   n_cores    pc  px_height  px_width  \\\n",
            "0       0.080645  0.555556   0.900000  0.142857  0.10   0.010204  0.170895   \n",
            "1       0.822581  0.666667   0.466667  0.285714  0.30   0.461735  0.993324   \n",
            "2       0.629032  0.888889   0.541667  0.571429  0.30   0.644388  0.811749   \n",
            "3       0.129032  0.777778   0.425000  0.714286  0.45   0.620408  0.858478   \n",
            "4       0.677419  0.555556   0.508333  0.142857  0.70   0.616327  0.475300   \n",
            "...          ...       ...        ...       ...   ...        ...       ...   \n",
            "1995    0.000000  0.777778   0.216667  0.714286  0.70   0.623469  0.927904   \n",
            "1996    0.596774  0.111111   0.891667  0.428571  0.15   0.466837  0.977971   \n",
            "1997    0.548387  0.666667   0.233333  1.000000  0.15   0.442857  0.755674   \n",
            "1998    0.709677  0.000000   0.541667  0.571429  0.25   0.171429  0.113485   \n",
            "1999    0.693548  0.888889   0.733333  0.714286  0.80   0.246429  0.169559   \n",
            "\n",
            "           ram      sc_h      sc_w  talk_time  three_g  touch_screen  wifi  \n",
            "0     0.612774  0.285714  0.388889   0.944444      0.0           0.0   1.0  \n",
            "1     0.634687  0.857143  0.166667   0.277778      1.0           1.0   0.0  \n",
            "2     0.627205  0.428571  0.111111   0.388889      1.0           1.0   0.0  \n",
            "3     0.671566  0.785714  0.444444   0.500000      1.0           0.0   0.0  \n",
            "4     0.308658  0.214286  0.111111   0.722222      1.0           1.0   0.0  \n",
            "...        ...       ...       ...        ...      ...           ...   ...  \n",
            "1995  0.110102  0.571429  0.222222   0.944444      1.0           1.0   0.0  \n",
            "1996  0.474613  0.428571  0.555556   0.777778      1.0           1.0   1.0  \n",
            "1997  0.748530  0.285714  0.055556   0.166667      1.0           1.0   0.0  \n",
            "1998  0.163816  0.928571  0.555556   0.944444      1.0           1.0   1.0  \n",
            "1999  0.978888  1.000000  0.222222   0.000000      1.0           1.0   1.0  \n",
            "\n",
            "[2000 rows x 20 columns]\n"
          ]
        }
      ]
    },
    {
      "cell_type": "code",
      "source": [
        "from sklearn.model_selection import train_test_split\n",
        "x_train, x_test_, y_train, y_test=train_test_split(dd, y, test_size=0.2)\n",
        "print(x_train)\n",
        "print(x_test_)\n",
        "print(y_train)\n",
        "print(y_test)"
      ],
      "metadata": {
        "colab": {
          "base_uri": "https://localhost:8080/"
        },
        "id": "GMrq-xs9L963",
        "outputId": "1e6f7f03-de57-49a9-d29f-64caf9034e84"
      },
      "execution_count": null,
      "outputs": [
        {
          "output_type": "stream",
          "name": "stdout",
          "text": [
            "      battery_power  blue  clock_speed  dual_sim        fc  four_g  \\\n",
            "1584       0.983300   1.0         0.76       1.0  0.315789     0.0   \n",
            "1621       0.307949   1.0         0.24       1.0  0.157895     0.0   \n",
            "202        0.391450   0.0         0.32       0.0  0.000000     1.0   \n",
            "519        0.953240   1.0         0.52       0.0  0.473684     1.0   \n",
            "656        0.722779   1.0         0.64       1.0  0.578947     0.0   \n",
            "...             ...   ...          ...       ...       ...     ...   \n",
            "802        0.728123   1.0         0.68       1.0  0.210526     1.0   \n",
            "498        0.951904   1.0         0.48       1.0  0.052632     1.0   \n",
            "339        0.707415   0.0         0.72       0.0  0.000000     1.0   \n",
            "1426       0.636607   0.0         0.36       1.0  0.421053     0.0   \n",
            "804        0.953908   1.0         0.00       1.0  0.000000     1.0   \n",
            "\n",
            "      int_memory     m_dep  mobile_wt   n_cores    pc  px_height  px_width  \\\n",
            "1584    0.709677  0.000000   0.941667  0.428571  0.50   0.356633  0.234312   \n",
            "1621    0.241935  0.000000   0.675000  1.000000  1.00   0.278571  0.616822   \n",
            "202     0.225806  0.222222   0.716667  0.285714  0.45   0.150510  0.059413   \n",
            "519     0.274194  1.000000   0.891667  0.285714  1.00   0.352551  0.720961   \n",
            "656     0.193548  0.666667   0.566667  0.857143  0.80   0.480612  0.768358   \n",
            "...          ...       ...        ...       ...   ...        ...       ...   \n",
            "802     0.806452  1.000000   0.675000  0.285714  0.80   0.279592  0.761682   \n",
            "498     0.500000  0.333333   0.766667  0.285714  0.10   0.501020  0.438585   \n",
            "339     0.322581  0.777778   0.741667  0.857143  0.05   0.380102  0.576769   \n",
            "1426    0.564516  0.777778   0.000000  1.000000  1.00   0.460714  0.273698   \n",
            "804     0.274194  1.000000   0.691667  0.714286  0.10   0.178061  0.367824   \n",
            "\n",
            "           ram      sc_h      sc_w  talk_time  three_g  touch_screen  wifi  \n",
            "1584  0.102352  0.071429  0.000000   0.055556      0.0           0.0   1.0  \n",
            "1621  0.850347  0.642857  0.166667   1.000000      0.0           0.0   0.0  \n",
            "202   0.115981  0.642857  0.333333   0.222222      1.0           0.0   1.0  \n",
            "519   0.940941  0.142857  0.111111   0.611111      1.0           1.0   1.0  \n",
            "656   0.386959  0.857143  0.722222   0.000000      1.0           0.0   1.0  \n",
            "...        ...       ...       ...        ...      ...           ...   ...  \n",
            "802   0.006948  0.357143  0.500000   0.666667      1.0           1.0   1.0  \n",
            "498   0.596472  0.071429  0.055556   0.666667      1.0           0.0   0.0  \n",
            "339   0.449492  0.714286  0.611111   0.777778      1.0           1.0   1.0  \n",
            "1426  0.389364  0.785714  0.000000   0.944444      0.0           0.0   0.0  \n",
            "804   0.442811  0.500000  0.388889   0.222222      1.0           1.0   0.0  \n",
            "\n",
            "[1600 rows x 20 columns]\n",
            "      battery_power  blue  clock_speed  dual_sim        fc  four_g  \\\n",
            "379        0.458250   1.0         0.68       0.0  0.000000     1.0   \n",
            "482        0.553774   1.0         0.32       1.0  0.736842     0.0   \n",
            "126        0.217101   1.0         0.76       1.0  0.000000     1.0   \n",
            "1358       0.473614   1.0         0.44       1.0  0.473684     0.0   \n",
            "205        0.176353   0.0         0.00       1.0  0.000000     1.0   \n",
            "...             ...   ...          ...       ...       ...     ...   \n",
            "334        0.922512   1.0         0.32       1.0  0.421053     0.0   \n",
            "1805       0.022044   0.0         0.00       1.0  0.210526     0.0   \n",
            "1814       0.141617   0.0         0.44       0.0  0.210526     1.0   \n",
            "1179       0.921176   0.0         0.00       0.0  0.000000     1.0   \n",
            "858        0.919840   1.0         0.00       0.0  0.473684     0.0   \n",
            "\n",
            "      int_memory     m_dep  mobile_wt   n_cores    pc  px_height  px_width  \\\n",
            "379     0.709677  0.333333   0.541667  0.142857  0.45   0.598469  0.877170   \n",
            "482     0.016129  0.222222   0.025000  0.571429  0.85   0.500000  0.508678   \n",
            "126     0.903226  0.222222   0.066667  0.428571  0.05   0.091327  0.190921   \n",
            "1358    0.887097  0.444444   0.258333  0.428571  1.00   0.167857  0.359813   \n",
            "205     0.725806  0.222222   0.291667  1.000000  0.05   0.651531  0.620160   \n",
            "...          ...       ...        ...       ...   ...        ...       ...   \n",
            "334     0.725806  0.111111   0.500000  0.142857  0.65   0.060714  0.101469   \n",
            "1805    0.000000  0.111111   0.041667  0.571429  0.80   0.464796  0.480641   \n",
            "1814    0.983871  0.666667   0.075000  0.142857  0.40   0.052551  0.841121   \n",
            "1179    0.080645  0.555556   0.200000  0.428571  0.05   0.454082  0.346462   \n",
            "858     0.435484  0.555556   0.041667  1.000000  0.95   0.107143  0.351135   \n",
            "\n",
            "           ram      sc_h      sc_w  talk_time  three_g  touch_screen  wifi  \n",
            "379   0.978354  0.571429  0.611111   0.333333      1.0           0.0   1.0  \n",
            "482   0.055318  0.642857  0.333333   0.500000      0.0           0.0   1.0  \n",
            "126   0.696686  0.285714  0.166667   0.888889      1.0           0.0   1.0  \n",
            "1358  0.435596  0.785714  0.000000   0.833333      1.0           0.0   1.0  \n",
            "205   0.530999  0.428571  0.388889   0.111111      1.0           0.0   1.0  \n",
            "...        ...       ...       ...        ...      ...           ...   ...  \n",
            "334   0.599679  0.857143  0.055556   0.500000      0.0           0.0   1.0  \n",
            "1805  0.590593  0.000000  0.166667   0.888889      0.0           1.0   1.0  \n",
            "1814  0.487974  0.714286  0.555556   0.555556      1.0           0.0   0.0  \n",
            "1179  0.724746  0.285714  0.000000   0.055556      1.0           1.0   0.0  \n",
            "858   0.288081  0.928571  0.388889   0.000000      0.0           0.0   0.0  \n",
            "\n",
            "[400 rows x 20 columns]\n",
            "1584    0\n",
            "1621    3\n",
            "202     0\n",
            "519     3\n",
            "656     2\n",
            "       ..\n",
            "802     0\n",
            "498     2\n",
            "339     2\n",
            "1426    1\n",
            "804     1\n",
            "Name: price_range, Length: 1600, dtype: int64\n",
            "379     3\n",
            "482     0\n",
            "126     2\n",
            "1358    1\n",
            "205     2\n",
            "       ..\n",
            "334     2\n",
            "1805    2\n",
            "1814    1\n",
            "1179    3\n",
            "858     1\n",
            "Name: price_range, Length: 400, dtype: int64\n"
          ]
        }
      ]
    },
    {
      "cell_type": "code",
      "source": [
        "print(x.isnull().sum())\n",
        "data=data.fillna(0)\n",
        "print(data.dtypes)\n"
      ],
      "metadata": {
        "colab": {
          "base_uri": "https://localhost:8080/"
        },
        "id": "MmvRse_wMDcm",
        "outputId": "2787a61d-2b2e-4f3f-83fb-46283f48f279"
      },
      "execution_count": null,
      "outputs": [
        {
          "output_type": "stream",
          "name": "stdout",
          "text": [
            "battery_power    0\n",
            "blue             0\n",
            "clock_speed      0\n",
            "dual_sim         0\n",
            "fc               0\n",
            "four_g           0\n",
            "int_memory       0\n",
            "m_dep            0\n",
            "mobile_wt        0\n",
            "n_cores          0\n",
            "pc               0\n",
            "px_height        0\n",
            "px_width         0\n",
            "ram              0\n",
            "sc_h             0\n",
            "sc_w             0\n",
            "talk_time        0\n",
            "three_g          0\n",
            "touch_screen     0\n",
            "wifi             0\n",
            "dtype: int64\n",
            "battery_power      int64\n",
            "blue               int64\n",
            "clock_speed      float64\n",
            "dual_sim           int64\n",
            "fc                 int64\n",
            "four_g             int64\n",
            "int_memory         int64\n",
            "m_dep            float64\n",
            "mobile_wt          int64\n",
            "n_cores            int64\n",
            "pc                 int64\n",
            "px_height          int64\n",
            "px_width           int64\n",
            "ram                int64\n",
            "sc_h               int64\n",
            "sc_w               int64\n",
            "talk_time          int64\n",
            "three_g            int64\n",
            "touch_screen       int64\n",
            "wifi               int64\n",
            "price_range        int64\n",
            "dtype: object\n"
          ]
        }
      ]
    },
    {
      "cell_type": "markdown",
      "source": [
        "**2ND QUESTION**\n"
      ],
      "metadata": {
        "id": "T88w4N89MHdN"
      }
    },
    {
      "cell_type": "code",
      "source": [
        "import pandas as pd\n",
        "data=pd.read_csv(\"/content/drive/MyDrive/housing.csv\");\n",
        "print(data);\n",
        "\n"
      ],
      "metadata": {
        "colab": {
          "base_uri": "https://localhost:8080/"
        },
        "id": "MWGUXr4BMKXG",
        "outputId": "e63a9817-1e71-4fe8-eae3-fab7bcf8c72c"
      },
      "execution_count": null,
      "outputs": [
        {
          "output_type": "stream",
          "name": "stdout",
          "text": [
            "       longitude  latitude  housing_median_age  total_rooms  total_bedrooms  \\\n",
            "0        -122.23     37.88                  41          880           129.0   \n",
            "1        -122.22     37.86                  21         7099          1106.0   \n",
            "2        -122.24     37.85                  52         1467           190.0   \n",
            "3        -122.25     37.85                  52         1274           235.0   \n",
            "4        -122.25     37.85                  52         1627           280.0   \n",
            "...          ...       ...                 ...          ...             ...   \n",
            "20635    -121.09     39.48                  25         1665           374.0   \n",
            "20636    -121.21     39.49                  18          697           150.0   \n",
            "20637    -121.22     39.43                  17         2254           485.0   \n",
            "20638    -121.32     39.43                  18         1860           409.0   \n",
            "20639    -121.24     39.37                  16         2785           616.0   \n",
            "\n",
            "       population  households  median_income  median_house_value  \\\n",
            "0             322         126         8.3252              452600   \n",
            "1            2401        1138         8.3014              358500   \n",
            "2             496         177         7.2574              352100   \n",
            "3             558         219         5.6431              341300   \n",
            "4             565         259         3.8462              342200   \n",
            "...           ...         ...            ...                 ...   \n",
            "20635         845         330         1.5603               78100   \n",
            "20636         356         114         2.5568               77100   \n",
            "20637        1007         433         1.7000               92300   \n",
            "20638         741         349         1.8672               84700   \n",
            "20639        1387         530         2.3886               89400   \n",
            "\n",
            "      ocean_proximity  \n",
            "0            NEAR BAY  \n",
            "1            NEAR BAY  \n",
            "2            NEAR BAY  \n",
            "3            NEAR BAY  \n",
            "4            NEAR BAY  \n",
            "...               ...  \n",
            "20635          INLAND  \n",
            "20636          INLAND  \n",
            "20637          INLAND  \n",
            "20638          INLAND  \n",
            "20639          INLAND  \n",
            "\n",
            "[20640 rows x 10 columns]\n"
          ]
        }
      ]
    },
    {
      "cell_type": "code",
      "source": [
        "y=data['median_house_value']\n",
        "print(y);\n"
      ],
      "metadata": {
        "colab": {
          "base_uri": "https://localhost:8080/"
        },
        "id": "QMyVcR8hQH26",
        "outputId": "fa18b40e-762e-4bc4-c4ae-06f9a1796e8f"
      },
      "execution_count": null,
      "outputs": [
        {
          "output_type": "stream",
          "name": "stdout",
          "text": [
            "0        452600\n",
            "1        358500\n",
            "2        352100\n",
            "3        341300\n",
            "4        342200\n",
            "          ...  \n",
            "20635     78100\n",
            "20636     77100\n",
            "20637     92300\n",
            "20638     84700\n",
            "20639     89400\n",
            "Name: median_house_value, Length: 20640, dtype: int64\n"
          ]
        }
      ]
    },
    {
      "cell_type": "code",
      "source": [
        "x=data.drop('median_house_value',axis=1)\n",
        "print(x);"
      ],
      "metadata": {
        "colab": {
          "base_uri": "https://localhost:8080/"
        },
        "id": "tP0quNKEQRYz",
        "outputId": "0d87c3ae-bf16-4bed-83bb-f22b78390a9c"
      },
      "execution_count": null,
      "outputs": [
        {
          "output_type": "stream",
          "name": "stdout",
          "text": [
            "       longitude  latitude  housing_median_age  total_rooms  total_bedrooms  \\\n",
            "0        -122.23     37.88                  41          880           129.0   \n",
            "1        -122.22     37.86                  21         7099          1106.0   \n",
            "2        -122.24     37.85                  52         1467           190.0   \n",
            "3        -122.25     37.85                  52         1274           235.0   \n",
            "4        -122.25     37.85                  52         1627           280.0   \n",
            "...          ...       ...                 ...          ...             ...   \n",
            "20635    -121.09     39.48                  25         1665           374.0   \n",
            "20636    -121.21     39.49                  18          697           150.0   \n",
            "20637    -121.22     39.43                  17         2254           485.0   \n",
            "20638    -121.32     39.43                  18         1860           409.0   \n",
            "20639    -121.24     39.37                  16         2785           616.0   \n",
            "\n",
            "       population  households  median_income ocean_proximity  \n",
            "0             322         126         8.3252        NEAR BAY  \n",
            "1            2401        1138         8.3014        NEAR BAY  \n",
            "2             496         177         7.2574        NEAR BAY  \n",
            "3             558         219         5.6431        NEAR BAY  \n",
            "4             565         259         3.8462        NEAR BAY  \n",
            "...           ...         ...            ...             ...  \n",
            "20635         845         330         1.5603          INLAND  \n",
            "20636         356         114         2.5568          INLAND  \n",
            "20637        1007         433         1.7000          INLAND  \n",
            "20638         741         349         1.8672          INLAND  \n",
            "20639        1387         530         2.3886          INLAND  \n",
            "\n",
            "[20640 rows x 9 columns]\n"
          ]
        }
      ]
    },
    {
      "cell_type": "code",
      "source": [
        "import pandas as pd\n",
        "\n",
        "# Assuming 'x' is your DataFrame with some string columns\n",
        "for column in x.columns:\n",
        "    if x[column].dtype == 'object':\n",
        "        try:\n",
        "            x[column] = pd.to_numeric(x[column])\n",
        "        except ValueError:\n",
        "            print(f\"Could not convert column '{column}' to numeric type.\")\n",
        "            # Handle the unconverted columns appropriately\n",
        "            # For example, you can drop the column or use one-hot encoding\n",
        "            x = x.drop(column, axis=1) # Drop the column if it cannot be converted\n",
        "\n",
        "# Now perform the normalization\n",
        "data = (x - x.min()) / (x.max() - x.min())\n",
        "print(data)\n"
      ],
      "metadata": {
        "colab": {
          "base_uri": "https://localhost:8080/"
        },
        "id": "H1_YkCDPQWG9",
        "outputId": "1ca3e254-6529-4cec-fae8-eefc27e6fbdc"
      },
      "execution_count": null,
      "outputs": [
        {
          "output_type": "stream",
          "name": "stdout",
          "text": [
            "Could not convert column 'ocean_proximity' to numeric type.\n",
            "       longitude  latitude  housing_median_age  total_rooms  total_bedrooms  \\\n",
            "0       0.211155  0.567481            0.784314     0.022331        0.019863   \n",
            "1       0.212151  0.565356            0.392157     0.180503        0.171477   \n",
            "2       0.210159  0.564293            1.000000     0.037260        0.029330   \n",
            "3       0.209163  0.564293            1.000000     0.032352        0.036313   \n",
            "4       0.209163  0.564293            1.000000     0.041330        0.043296   \n",
            "...          ...       ...                 ...          ...             ...   \n",
            "20635   0.324701  0.737513            0.470588     0.042296        0.057883   \n",
            "20636   0.312749  0.738576            0.333333     0.017676        0.023122   \n",
            "20637   0.311753  0.732200            0.313725     0.057277        0.075109   \n",
            "20638   0.301793  0.732200            0.333333     0.047256        0.063315   \n",
            "20639   0.309761  0.725824            0.294118     0.070782        0.095438   \n",
            "\n",
            "       population  households  median_income  \n",
            "0        0.008941    0.020556       0.539668  \n",
            "1        0.067210    0.186976       0.538027  \n",
            "2        0.013818    0.028943       0.466028  \n",
            "3        0.015555    0.035849       0.354699  \n",
            "4        0.015752    0.042427       0.230776  \n",
            "...           ...         ...            ...  \n",
            "20635    0.023599    0.054103       0.073130  \n",
            "20636    0.009894    0.018582       0.141853  \n",
            "20637    0.028140    0.071041       0.082764  \n",
            "20638    0.020684    0.057227       0.094295  \n",
            "20639    0.038790    0.086992       0.130253  \n",
            "\n",
            "[20640 rows x 8 columns]\n"
          ]
        }
      ]
    },
    {
      "cell_type": "code",
      "source": [
        "from sklearn.model_selection import train_test_split\n",
        "x_train,x_test,y_train,y_test=train_test_split(x,y,test_size=0.1)\n",
        "print(x_train);\n",
        "print(x_test);\n",
        "print(y_train);\n",
        "print(y_test);\n"
      ],
      "metadata": {
        "colab": {
          "base_uri": "https://localhost:8080/"
        },
        "id": "hsUyJtTBUwIo",
        "outputId": "91de8da7-ba9f-4fd0-d22a-35a8253b2552"
      },
      "execution_count": null,
      "outputs": [
        {
          "output_type": "stream",
          "name": "stdout",
          "text": [
            "       longitude  latitude  housing_median_age  total_rooms  total_bedrooms  \\\n",
            "5795     -118.23     34.14                  25         2864           844.0   \n",
            "824      -122.08     37.63                  34         1619           293.0   \n",
            "13608    -117.25     34.14                  19         5163          1229.0   \n",
            "7032     -118.10     33.96                  36         2013           435.0   \n",
            "5624     -118.27     33.77                  26         2272           694.0   \n",
            "...          ...       ...                 ...          ...             ...   \n",
            "10199    -117.93     33.87                  10         1277           488.0   \n",
            "8061     -118.20     33.84                  35         3405           779.0   \n",
            "1170     -121.58     39.51                  24         1865           372.0   \n",
            "18260    -122.08     37.38                  36          782           130.0   \n",
            "1251     -122.17     39.31                  35         2791           552.0   \n",
            "\n",
            "       population  households  median_income  \n",
            "5795         1745         803         2.9167  \n",
            "824          1148         310         4.0326  \n",
            "13608        2680        1141         2.2482  \n",
            "7032         1476         475         3.9549  \n",
            "5624         2567         595         1.9964  \n",
            "...           ...         ...            ...  \n",
            "10199         730         417         1.4803  \n",
            "8061         1953         671         2.7813  \n",
            "1170         1087         385         1.6389  \n",
            "18260         348         128         6.8280  \n",
            "1251         1395         476         2.5625  \n",
            "\n",
            "[18576 rows x 8 columns]\n",
            "       longitude  latitude  housing_median_age  total_rooms  total_bedrooms  \\\n",
            "17270    -119.72     34.41                  35          871           145.0   \n",
            "1283     -121.82     38.02                  46          176            43.0   \n",
            "6059     -117.80     34.02                  23         3351           591.0   \n",
            "10491    -117.68     33.51                  19         2930           428.0   \n",
            "15703    -122.43     37.79                  52         3522           938.0   \n",
            "...          ...       ...                 ...          ...             ...   \n",
            "20017    -119.06     36.09                  11         2572           454.0   \n",
            "12581    -121.42     38.52                  32         2828           556.0   \n",
            "7150     -118.15     34.02                  43         2172           605.0   \n",
            "10288    -117.84     33.89                  19         3544           542.0   \n",
            "4838     -118.28     34.03                  45          943           289.0   \n",
            "\n",
            "       population  households  median_income  \n",
            "17270         354         154         4.3214  \n",
            "1283          101          40         2.2361  \n",
            "6059         1535         522         5.0869  \n",
            "10491        1481         430         6.3230  \n",
            "15703        1319         887         4.3986  \n",
            "...           ...         ...            ...  \n",
            "20017        1402         415         3.6786  \n",
            "12581        1655         485         2.5574  \n",
            "7150         2386         597         2.8239  \n",
            "10288        1787         560         6.7837  \n",
            "4838          953         238         2.0673  \n",
            "\n",
            "[2064 rows x 8 columns]\n",
            "5795     224300\n",
            "824      164700\n",
            "13608    114500\n",
            "7032     192100\n",
            "5624     150600\n",
            "          ...  \n",
            "10199    137500\n",
            "8061     159200\n",
            "1170      56700\n",
            "18260    383900\n",
            "1251      62700\n",
            "Name: median_house_value, Length: 18576, dtype: int64\n",
            "17270    341800\n",
            "1283      93800\n",
            "6059     230600\n",
            "10491    480800\n",
            "15703    500001\n",
            "          ...  \n",
            "20017     72900\n",
            "12581     72600\n",
            "7150     150600\n",
            "10288    264300\n",
            "4838     151600\n",
            "Name: median_house_value, Length: 2064, dtype: int64\n"
          ]
        }
      ]
    },
    {
      "cell_type": "code",
      "source": [
        "print(x.isnull().sum())\n",
        "data=data.fillna(0)\n",
        "print(data.dtypes)"
      ],
      "metadata": {
        "colab": {
          "base_uri": "https://localhost:8080/"
        },
        "id": "KIf7VZzHW3kr",
        "outputId": "1112e25c-1594-424a-95be-646a91c60298"
      },
      "execution_count": null,
      "outputs": [
        {
          "output_type": "stream",
          "name": "stdout",
          "text": [
            "longitude               0\n",
            "latitude                0\n",
            "housing_median_age      0\n",
            "total_rooms             0\n",
            "total_bedrooms        207\n",
            "population              0\n",
            "households              0\n",
            "median_income           0\n",
            "dtype: int64\n",
            "longitude             float64\n",
            "latitude              float64\n",
            "housing_median_age    float64\n",
            "total_rooms           float64\n",
            "total_bedrooms        float64\n",
            "population            float64\n",
            "households            float64\n",
            "median_income         float64\n",
            "dtype: object\n"
          ]
        }
      ]
    },
    {
      "cell_type": "code",
      "source": [],
      "metadata": {
        "id": "ZvCjejTBW-Ny"
      },
      "execution_count": null,
      "outputs": []
    }
  ]
}